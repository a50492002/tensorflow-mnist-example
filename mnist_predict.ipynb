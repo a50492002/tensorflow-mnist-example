{
 "cells": [
  {
   "cell_type": "code",
   "execution_count": 1,
   "id": "1f73b273",
   "metadata": {},
   "outputs": [],
   "source": [
    "from tensorflow.keras.models import Sequential\n",
    "from tensorflow.keras.models import load_model\n",
    "from tensorflow.keras import layers\n",
    "from tensorflow.keras.utils import plot_model\n",
    "from tensorflow.keras.utils import to_categorical #載入二進制矩陣轉換方法\n",
    "import matplotlib.pyplot as plt\n",
    "from PIL import Image\n",
    "import glob\n",
    "import numpy as np\n",
    "%matplotlib inline"
   ]
  },
  {
   "cell_type": "code",
   "execution_count": 2,
   "id": "932e77a4",
   "metadata": {},
   "outputs": [
    {
     "name": "stdout",
     "output_type": "stream",
     "text": [
      "Model: \"sequential\"\n",
      "_________________________________________________________________\n",
      "Layer (type)                 Output Shape              Param #   \n",
      "=================================================================\n",
      "dense (Dense)                (None, 256)               200960    \n",
      "_________________________________________________________________\n",
      "dense_1 (Dense)              (None, 1024)              263168    \n",
      "_________________________________________________________________\n",
      "dense_2 (Dense)              (None, 256)               262400    \n",
      "_________________________________________________________________\n",
      "dense_3 (Dense)              (None, 10)                2570      \n",
      "=================================================================\n",
      "Total params: 729,098\n",
      "Trainable params: 729,098\n",
      "Non-trainable params: 0\n",
      "_________________________________________________________________\n"
     ]
    }
   ],
   "source": [
    "model5h = load_model('my_model.h5')\n",
    "model5h.summary()"
   ]
  },
  {
   "cell_type": "code",
   "execution_count": 3,
   "id": "00aba950",
   "metadata": {},
   "outputs": [],
   "source": [
    "model = Sequential([model5h, layers.Softmax()])"
   ]
  },
  {
   "cell_type": "code",
   "execution_count": 4,
   "id": "addc53c6",
   "metadata": {},
   "outputs": [
    {
     "data": {
      "text/plain": [
       "(10, 784)"
      ]
     },
     "execution_count": 4,
     "metadata": {},
     "output_type": "execute_result"
    }
   ],
   "source": [
    "''''''\n",
    "images = glob.glob(\"test_images/*.jpg\")\n",
    "imgs = []\n",
    "for image in images:\n",
    "    with open(image, 'rb') as file:\n",
    "        p = Image.open(file).convert('L').resize((28, 28), Image.Resampling.LANCZOS)\n",
    "        p = 255 - np.array(p)\n",
    "        imgs.append(p.reshape(784).astype('float32')/255)\n",
    "\n",
    "img = np.stack(imgs, axis=0)\n",
    "img.shape\n"
   ]
  },
  {
   "cell_type": "code",
   "execution_count": 5,
   "id": "64f15d45",
   "metadata": {},
   "outputs": [
    {
     "data": {
      "text/plain": [
       "'\\nimage = Image.open(\"test_images/test_0.jpg\").convert(\\'L\\').resize((28, 28), Image.Resampling.LANCZOS)\\nimg = 255 - np.array(image)\\nimg = img.reshape(1,784).astype(\\'float32\\')/255\\n'"
      ]
     },
     "execution_count": 5,
     "metadata": {},
     "output_type": "execute_result"
    }
   ],
   "source": [
    "# 單張圖片的載入方式\n",
    "'''\n",
    "image = Image.open(\"test_images/test_0.jpg\").convert('L').resize((28, 28), Image.Resampling.LANCZOS)\n",
    "img = 255 - np.array(image)\n",
    "img = img.reshape(1,784).astype('float32')/255\n",
    "'''"
   ]
  },
  {
   "cell_type": "code",
   "execution_count": 6,
   "id": "b647a0ff",
   "metadata": {},
   "outputs": [
    {
     "name": "stdout",
     "output_type": "stream",
     "text": [
      "(10, 784)\n"
     ]
    }
   ],
   "source": [
    "print(img.shape)\n",
    "predictions = model.predict(img)"
   ]
  },
  {
   "cell_type": "code",
   "execution_count": 7,
   "id": "89d652de",
   "metadata": {},
   "outputs": [
    {
     "data": {
      "text/plain": [
       "array([0.18295538, 0.08819015, 0.09269612, 0.0884825 , 0.08875286,\n",
       "       0.09000314, 0.09094218, 0.09001601, 0.09348673, 0.09447505],\n",
       "      dtype=float32)"
      ]
     },
     "execution_count": 7,
     "metadata": {},
     "output_type": "execute_result"
    }
   ],
   "source": [
    "predictions[0]"
   ]
  },
  {
   "cell_type": "code",
   "execution_count": 10,
   "id": "20584a0c",
   "metadata": {},
   "outputs": [
    {
     "data": {
      "text/plain": [
       "<matplotlib.image.AxesImage at 0x223475a4850>"
      ]
     },
     "execution_count": 10,
     "metadata": {},
     "output_type": "execute_result"
    },
    {
     "data": {
      "image/png": "[encoded data removed]",
      "text/plain": [
       "<Figure size 640x480 with 1 Axes>"
      ]
     },
     "metadata": {},
     "output_type": "display_data"
    }
   ],
   "source": [
    "plt.gray()\n",
    "plt.imshow(img[3].reshape(28, 28))"
   ]
  },
  {
   "cell_type": "code",
   "execution_count": 11,
   "id": "04b7121b",
   "metadata": {},
   "outputs": [
    {
     "data": {
      "text/plain": [
       "3"
      ]
     },
     "execution_count": 11,
     "metadata": {},
     "output_type": "execute_result"
    }
   ],
   "source": [
    "np.argmax(predictions[3])"
   ]
  },
  {
   "cell_type": "code",
   "execution_count": null,
   "id": "e4250c57",
   "metadata": {},
   "outputs": [],
   "source": []
  }
 ],
 "metadata": {
  "kernelspec": {
   "display_name": "Python 3 (ipykernel)",
   "language": "python",
   "name": "python3"
  },
  "language_info": {
   "codemirror_mode": {
    "name": "ipython",
    "version": 3
   },
   "file_extension": ".py",
   "mimetype": "text/x-python",
   "name": "python",
   "nbconvert_exporter": "python",
   "pygments_lexer": "ipython3",
   "version": "3.9.13"
  }
 },
 "nbformat": 4,
 "nbformat_minor": 5
}
