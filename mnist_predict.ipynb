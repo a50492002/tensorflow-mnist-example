{
 "cells": [
  {
   "cell_type": "code",
   "execution_count": 1,
   "id": "1f73b273",
   "metadata": {},
   "outputs": [],
   "source": [
    "from tensorflow.keras.models import Sequential #載入models物件的Sequential(神經序列)方法\n",
    "from tensorflow.keras.models import load_model #載入models物件的讀取圖模型方法\n",
    "from tensorflow.keras import layers #載入layers(神經層)物件\n",
    "from tensorflow.keras.utils import plot_model\n",
    "from tensorflow.keras.utils import to_categorical #載入二進制矩陣轉換方法\n",
    "import matplotlib.pyplot as plt #載入圖表套件\n",
    "from PIL import Image #載入圖片物件\n",
    "import glob #載入讀檔套件\n",
    "import numpy as np #載入數學擴充套件\n",
    "#魔術方法 讓該套件可以在 IPython直接執行，無須使用 plt.show()來輸出圖表\n",
    "%matplotlib inline"
   ]
  },
  {
   "cell_type": "code",
   "execution_count": 2,
   "id": "932e77a4",
   "metadata": {},
   "outputs": [
    {
     "name": "stdout",
     "output_type": "stream",
     "text": [
      "Model: \"sequential\"\n",
      "_________________________________________________________________\n",
      "Layer (type)                 Output Shape              Param #   \n",
      "=================================================================\n",
      "dense (Dense)                (None, 512)               401920    \n",
      "_________________________________________________________________\n",
      "dense_1 (Dense)              (None, 256)               131328    \n",
      "_________________________________________________________________\n",
      "dense_2 (Dense)              (None, 128)               32896     \n",
      "_________________________________________________________________\n",
      "dense_3 (Dense)              (None, 64)                8256      \n",
      "_________________________________________________________________\n",
      "dense_4 (Dense)              (None, 10)                650       \n",
      "=================================================================\n",
      "Total params: 575,050\n",
      "Trainable params: 575,050\n",
      "Non-trainable params: 0\n",
      "_________________________________________________________________\n"
     ]
    }
   ],
   "source": [
    "model5h = load_model('my_model.h5') #載入模型\n",
    "model5h.summary() #顯示當前模型設定值"
   ]
  },
  {
   "cell_type": "code",
   "execution_count": 3,
   "id": "00aba950",
   "metadata": {},
   "outputs": [],
   "source": [
    "#建立Sequential(神經序列)物件並載入訓練好的模型\n",
    "model = Sequential([model5h, layers.Softmax()])"
   ]
  },
  {
   "cell_type": "code",
   "execution_count": 4,
   "id": "30443f1d",
   "metadata": {},
   "outputs": [],
   "source": [
    "#多張圖片的載入方式\n",
    "''''''\n",
    "images = glob.glob(\"test_images/*.jpg\") #載入路徑底下的所有JPG檔\n",
    "imgs = [] #建立空物件\n",
    "#讀取圖片\n",
    "for image in images: \n",
    "    with open(image, 'rb') as file:\n",
    "        #讀取圖片並轉成28x28的大小\n",
    "        p = Image.open(file).convert('L').resize((28, 28), Image.Resampling.LANCZOS)\n",
    "        p = 255 - np.array(p) #負片\n",
    "        #重塑矩陣並轉型成float32，再轉換成0~1的浮點數\n",
    "        imgs.append(p.reshape(784).astype('float32')/255)\n",
    "\n",
    "\n",
    "img = np.stack(imgs, axis=0) #堆疊所有圖形矩陣"
   ]
  },
  {
   "cell_type": "code",
   "execution_count": 5,
   "id": "64f15d45",
   "metadata": {},
   "outputs": [
    {
     "data": {
      "text/plain": [
       "'\\n#讀取圖片並轉成28x28的大小\\nimage = Image.open(\"test_images/test_0.jpg\").convert(\\'L\\').resize((28, 28), Image.Resampling.LANCZOS)\\nimg = 255 - np.array(image) #負片\\n#重塑矩陣並轉型成float32，再轉換成0~1的浮點數\\nimg = img.reshape(1,784).astype(\\'float32\\')/255 \\n'"
      ]
     },
     "execution_count": 5,
     "metadata": {},
     "output_type": "execute_result"
    }
   ],
   "source": [
    "#單張圖片的載入方式\n",
    "'''\n",
    "#讀取圖片並轉成28x28的大小\n",
    "image = Image.open(\"test_images/test_0.jpg\").convert('L').resize((28, 28), Image.Resampling.LANCZOS)\n",
    "img = 255 - np.array(image) #負片\n",
    "#重塑矩陣並轉型成float32，再轉換成0~1的浮點數\n",
    "img = img.reshape(1,784).astype('float32')/255 \n",
    "'''"
   ]
  },
  {
   "cell_type": "code",
   "execution_count": 6,
   "id": "b647a0ff",
   "metadata": {},
   "outputs": [
    {
     "name": "stdout",
     "output_type": "stream",
     "text": [
      "(10, 784)\n"
     ]
    }
   ],
   "source": [
    "print(img.shape) #輸出矩陣規格\n",
    "predictions = model.predict(img) #執行預測"
   ]
  },
  {
   "cell_type": "code",
   "execution_count": 7,
   "id": "89d652de",
   "metadata": {},
   "outputs": [
    {
     "data": {
      "text/plain": [
       "array([0.23196909, 0.08533676, 0.08533685, 0.08533676, 0.08533676,\n",
       "       0.08533676, 0.08533676, 0.08533676, 0.08533676, 0.08533676],\n",
       "      dtype=float32)"
      ]
     },
     "execution_count": 7,
     "metadata": {},
     "output_type": "execute_result"
    }
   ],
   "source": [
    "predictions[0] #輸出預測結果"
   ]
  },
  {
   "cell_type": "code",
   "execution_count": 8,
   "id": "20584a0c",
   "metadata": {},
   "outputs": [
    {
     "name": "stdout",
     "output_type": "stream",
     "text": [
      "6\n"
     ]
    },
    {
     "data": {
      "text/plain": [
       "<matplotlib.image.AxesImage at 0x2dacb8aeeb0>"
      ]
     },
     "execution_count": 8,
     "metadata": {},
     "output_type": "execute_result"
    },
    {
     "data": {
      "image/png": "[encoded data removed]",
      "text/plain": [
       "<Figure size 640x480 with 1 Axes>"
      ]
     },
     "metadata": {},
     "output_type": "display_data"
    }
   ],
   "source": [
    "print(np.argmax(predictions[6])) #輸出預測結果(答案)\n",
    "plt.gray() #設定黑白輸出\n",
    "plt.imshow(img[6].reshape(28, 28)) #輸出指定圖片"
   ]
  }
 ],
 "metadata": {
  "kernelspec": {
   "display_name": "Python 3 (ipykernel)",
   "language": "python",
   "name": "python3"
  },
  "language_info": {
   "codemirror_mode": {
    "name": "ipython",
    "version": 3
   },
   "file_extension": ".py",
   "mimetype": "text/x-python",
   "name": "python",
   "nbconvert_exporter": "python",
   "pygments_lexer": "ipython3",
   "version": "3.9.13"
  }
 },
 "nbformat": 4,
 "nbformat_minor": 5
}
